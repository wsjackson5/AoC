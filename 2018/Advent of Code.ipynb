{
 "cells": [
  {
   "cell_type": "markdown",
   "metadata": {},
   "source": [
    "<h1>Day 1</h1>"
   ]
  },
  {
   "cell_type": "code",
   "execution_count": 9,
   "metadata": {},
   "outputs": [
    {
     "name": "stdout",
     "output_type": "stream",
     "text": [
      "563\n"
     ]
    }
   ],
   "source": [
    "#Part 2\n",
    "puzzleInput = [line.rstrip('\\n') for line in open('input1.txt')]\n",
    "puzzleInput = list(map(int, puzzleInput))\n",
    "\n",
    "notFound = 1\n",
    "cumSum = 0\n",
    "totals = []\n",
    "\n",
    "while notFound:\n",
    "    for i in range(len(puzzleInput)):\n",
    "        cumSum += puzzleInput[i]\n",
    "        if cumSum in totals:\n",
    "            print(cumSum)\n",
    "            notFound = 0\n",
    "            break\n",
    "        totals.append(cumSum)\n",
    "    \n"
   ]
  },
  {
   "cell_type": "markdown",
   "metadata": {},
   "source": [
    "<h1>Day 2</h1>"
   ]
  },
  {
   "cell_type": "code",
   "execution_count": 102,
   "metadata": {},
   "outputs": [
    {
     "name": "stdout",
     "output_type": "stream",
     "text": [
      "5880\n",
      "tiwcdpbseqhxryfmegkvjujvza\n",
      "tiwcdpbseqhxryfmlgkvjujvza\n",
      "tiwcdpbseqhxryfmlgkvjujvza\n",
      "tiwcdpbseqhxryfmegkvjujvza\n"
     ]
    }
   ],
   "source": [
    "from collections import Counter\n",
    "\n",
    "puzzleInput = [line.rstrip('\\n') for line in open('input2.txt')]\n",
    "\n",
    "#Part 1\n",
    "twos = 0\n",
    "threes = 0\n",
    "\n",
    "for i in range(len(puzzleInput)):\n",
    "    counts = Counter(puzzleInput[i])\n",
    "    \n",
    "    twosInc = 0\n",
    "    threesInc = 0\n",
    "    for j in counts:\n",
    "        if (counts[j] == 2) and (twosInc == 0):\n",
    "            twosInc = 1\n",
    "            twos += 1\n",
    "        if (counts[j] == 3) and (threesInc == 0):\n",
    "            threesInc = 1\n",
    "            threes += 1\n",
    "\n",
    "print(twos*threes)\n",
    "\n",
    "#part 2\n",
    "for i in puzzleInput:\n",
    "    for j in puzzleInput:\n",
    "        difference = 0\n",
    "        for k in range(len(i)):\n",
    "            if i[k] != j[k]:\n",
    "                difference += 1\n",
    "        if difference == 1:\n",
    "            print(i)\n",
    "            print(j)\n",
    "        "
   ]
  },
  {
   "cell_type": "markdown",
   "metadata": {},
   "source": [
    "<h1>Day 3</h1>"
   ]
  },
  {
   "cell_type": "code",
   "execution_count": 222,
   "metadata": {},
   "outputs": [
    {
     "name": "stdout",
     "output_type": "stream",
     "text": [
      "104241\n",
      "806\n"
     ]
    }
   ],
   "source": [
    "import numpy as np\n",
    "\n",
    "def writeArray(x, y, a, b, ident):\n",
    "    for i in range(a):\n",
    "        for j in range(b):\n",
    "            if (array[x+i][y+j] != 0):\n",
    "                array[x+i][y+j] = -1\n",
    "                overlaps = 1\n",
    "            else:\n",
    "                array[x+i][y+j] = ident\n",
    "\n",
    "def readArray(x, y, a, b, ident):\n",
    "    overlaps = 0\n",
    "    for i in range(a):\n",
    "        for j in range(b):\n",
    "            if (array[x+i][y+j] != ident):\n",
    "                overlaps = 1\n",
    "    if (overlaps == 0):\n",
    "        print(ident)\n",
    "\n",
    "puzzleInput = [line.rstrip('\\n') for line in open('input3.txt')]\n",
    "stripChars = str.maketrans('','','#:')\n",
    "puzzleInput = [s.translate(stripChars) for s in puzzleInput]\n",
    "\n",
    "array = np.zeros( (1000, 1000), dtype=np.int32 )\n",
    "total = 0\n",
    "    \n",
    "for i in puzzleInput:\n",
    "    str1 = str.split(i)\n",
    "    for j in range(len(str1)):\n",
    "        str2 = str1[j]\n",
    "        if (j == 0):\n",
    "            ident = int(str2)\n",
    "        if (j == 2):\n",
    "            str3 = str2.split(',')\n",
    "            x, y = int(str3[0]), int(str3[1])\n",
    "        if (j == 3):\n",
    "            str4 = str2.split('x')\n",
    "            a, b = int(str4[0]), int(str4[1])\n",
    "    writeArray(x, y, a, b, ident)\n",
    "    \n",
    "for i in np.nditer(array):\n",
    "    if (i == -1):\n",
    "       total +=1\n",
    "\n",
    "print(total)\n",
    "\n",
    "for i in puzzleInput:\n",
    "    str1 = str.split(i)\n",
    "    for j in range(len(str1)):\n",
    "        str2 = str1[j]\n",
    "        if (j == 0):\n",
    "            ident = int(str2)\n",
    "        if (j == 2):\n",
    "            str3 = str2.split(',')\n",
    "            x, y = int(str3[0]), int(str3[1])\n",
    "        if (j == 3):\n",
    "            str4 = str2.split('x')\n",
    "            a, b = int(str4[0]), int(str4[1])\n",
    "    readArray(x, y, a, b, ident)"
   ]
  },
  {
   "cell_type": "markdown",
   "metadata": {},
   "source": [
    "<h1>Day 4</h1>"
   ]
  },
  {
   "cell_type": "code",
   "execution_count": 428,
   "metadata": {},
   "outputs": [
    {
     "ename": "TypeError",
     "evalue": "only integer scalar arrays can be converted to a scalar index",
     "output_type": "error",
     "traceback": [
      "\u001b[0;31m---------------------------------------------------------------------------\u001b[0m",
      "\u001b[0;31mTypeError\u001b[0m                                 Traceback (most recent call last)",
      "\u001b[0;32m<ipython-input-428-aa3d2a5bf363>\u001b[0m in \u001b[0;36m<module>\u001b[0;34m()\u001b[0m\n\u001b[1;32m    111\u001b[0m \u001b[0mcountMinutes\u001b[0m\u001b[0;34m(\u001b[0m\u001b[0;34m)\u001b[0m\u001b[0;34m\u001b[0m\u001b[0m\n\u001b[1;32m    112\u001b[0m \u001b[0;34m\u001b[0m\u001b[0m\n\u001b[0;32m--> 113\u001b[0;31m \u001b[0mdependableGuard\u001b[0m\u001b[0;34m(\u001b[0m\u001b[0;34m)\u001b[0m\u001b[0;34m\u001b[0m\u001b[0m\n\u001b[0m\u001b[1;32m    114\u001b[0m \u001b[0;31m#print('Part 2:')\u001b[0m\u001b[0;34m\u001b[0m\u001b[0;34m\u001b[0m\u001b[0m\n\u001b[1;32m    115\u001b[0m \u001b[0;31m#print(sleepiestMinute() * dependableGuard())\u001b[0m\u001b[0;34m\u001b[0m\u001b[0;34m\u001b[0m\u001b[0m\n",
      "\u001b[0;32m<ipython-input-428-aa3d2a5bf363>\u001b[0m in \u001b[0;36mdependableGuard\u001b[0;34m()\u001b[0m\n\u001b[1;32m     99\u001b[0m     \u001b[0msortGuardId\u001b[0m \u001b[0;34m=\u001b[0m \u001b[0mnp\u001b[0m\u001b[0;34m.\u001b[0m\u001b[0msplit\u001b[0m\u001b[0;34m(\u001b[0m\u001b[0msortGuardId\u001b[0m\u001b[0;34m,\u001b[0m \u001b[0mnp\u001b[0m\u001b[0;34m.\u001b[0m\u001b[0mwhere\u001b[0m\u001b[0;34m(\u001b[0m\u001b[0mnp\u001b[0m\u001b[0;34m.\u001b[0m\u001b[0mdiff\u001b[0m\u001b[0;34m(\u001b[0m\u001b[0msortGuardId\u001b[0m\u001b[0;34m[\u001b[0m\u001b[0;34m:\u001b[0m\u001b[0;34m,\u001b[0m\u001b[0;36m60\u001b[0m\u001b[0;34m]\u001b[0m\u001b[0;34m)\u001b[0m\u001b[0;34m)\u001b[0m\u001b[0;34m[\u001b[0m\u001b[0;36m0\u001b[0m\u001b[0;34m]\u001b[0m\u001b[0;34m+\u001b[0m\u001b[0;36m1\u001b[0m\u001b[0;34m)\u001b[0m\u001b[0;34m\u001b[0m\u001b[0m\n\u001b[1;32m    100\u001b[0m     \u001b[0;32mfor\u001b[0m \u001b[0mi\u001b[0m \u001b[0;32min\u001b[0m \u001b[0msortGuardId\u001b[0m\u001b[0;34m:\u001b[0m\u001b[0;34m\u001b[0m\u001b[0m\n\u001b[0;32m--> 101\u001b[0;31m         \u001b[0mprint\u001b[0m\u001b[0;34m(\u001b[0m\u001b[0msleepiestMinute\u001b[0m\u001b[0;34m(\u001b[0m\u001b[0msortGuardId\u001b[0m\u001b[0;34m[\u001b[0m\u001b[0mi\u001b[0m\u001b[0;34m]\u001b[0m\u001b[0;34m)\u001b[0m\u001b[0;34m)\u001b[0m\u001b[0;34m\u001b[0m\u001b[0m\n\u001b[0m\u001b[1;32m    102\u001b[0m \u001b[0;34m\u001b[0m\u001b[0m\n\u001b[1;32m    103\u001b[0m \u001b[0;34m\u001b[0m\u001b[0m\n",
      "\u001b[0;31mTypeError\u001b[0m: only integer scalar arrays can be converted to a scalar index"
     ]
    }
   ],
   "source": [
    "import numpy as np\n",
    "np.set_printoptions(threshold=np.inf)\n",
    "\n",
    "puzzleInput = [line.rstrip('\\n') for line in open('input4.txt')]\n",
    "stripChars = str.maketrans('','','[]#')\n",
    "puzzleInput = [s.translate(stripChars) for s in puzzleInput]\n",
    "\n",
    "array = np.zeros( (1261, 62), dtype=np.int32 )\n",
    "\n",
    "def interpretInput():\n",
    "    guard = 0\n",
    "    falls = 0\n",
    "    wakes = 0\n",
    "    for i in puzzleInput:\n",
    "        str1 = i.split()\n",
    "        remove = ['Guard', 'begins', 'shift', 'asleep', 'up']\n",
    "        str1  = [word for word in str1 if word not in remove]\n",
    "        for index, value in enumerate(str1):\n",
    "            if (index == 0):\n",
    "                str2 = value.split('-')\n",
    "                month = int(str2[1])\n",
    "                day = int(str2[2])\n",
    "            if (index == 1):\n",
    "                str2 = value.split(':')\n",
    "                hour = int(str2[0])\n",
    "                minute = int(str2[1])\n",
    "            if (index == 2):\n",
    "                if value.isnumeric():\n",
    "                    guard = int(value)\n",
    "                    falls = 0\n",
    "                    wakes = 0\n",
    "                else:\n",
    "                    guard = 0\n",
    "                    if (value == 'falls'):\n",
    "                        falls = 1\n",
    "                        wakes = 0\n",
    "                    if (value == 'wakes'):\n",
    "                        wakes = 1\n",
    "                        falls = 0\n",
    "        writeEntry(month, day, hour, minute, guard, falls, wakes)\n",
    "\n",
    "def writeEntry(month, day, hour, minute, guard, falls, wakes):\n",
    "    date = (month*100)+day\n",
    "    if (hour == 23):\n",
    "        date += 1\n",
    "    if (guard != 0):\n",
    "        array[date][60] = guard\n",
    "    if (falls == 1):\n",
    "        array[date][minute] = 1\n",
    "    if (wakes == 1):\n",
    "        array[date][minute] = 2\n",
    "\n",
    "def countMinutes():\n",
    "    guardDuty = 0\n",
    "    for i in range(len(array)):\n",
    "        minuteSum = 0\n",
    "        for j in range(60):\n",
    "            if (array[i][j] == 1):\n",
    "                if (array[i][j+1] == 0):\n",
    "                    array[i][j+1] = 1\n",
    "                minuteSum +=1\n",
    "        if (minuteSum != 0):\n",
    "            array[i][61] = minuteSum\n",
    "        if (array[i][60] != 0):\n",
    "            guardDuty = array[i][60]\n",
    "        array[i][60] = guardDuty\n",
    "\n",
    "def sleepiestGuard():\n",
    "    guardSums = [0] * 3000        \n",
    "    for i in range(3000):\n",
    "        for j in range(len(array)):\n",
    "            if (array[j][60] == i):\n",
    "                guardSums[i] += array[j][61]            \n",
    "    maxGuard = guardSums.index(max(guardSums))\n",
    "    return maxGuard\n",
    "\n",
    "def removeWokeGuards():\n",
    "    removeGuards = []\n",
    "    for i in range(len(array)):\n",
    "        if (array[i][60] != sleepGuard):\n",
    "            removeGuards.append(i)\n",
    "    return np.delete(array, removeGuards, axis=0)\n",
    "\n",
    "def sleepiestMinute(array):\n",
    "    minutes = [0] * 60\n",
    "    for i in range(len(array)):\n",
    "        for j in range(60):\n",
    "            if (array[i][j] == 1):\n",
    "                minutes[j] += 1\n",
    "    return minutes.index(max(minutes))\n",
    "\n",
    "def dependableGuard():\n",
    "    sortGuardId = array[np.argsort(array[:,60])]\n",
    "    removeRows = []\n",
    "    for i in range(len(array)):\n",
    "        if (sortGuardId[i][60] == 0):\n",
    "                removeRows.append(i)\n",
    "    sortGuardId =  np.delete(sortGuardId, removeRows , axis=0)\n",
    "    sortGuardId = np.split(sortGuardId, np.where(np.diff(sortGuardId[:,60]))[0]+1)\n",
    "    for i in sortGuardId:\n",
    "        print(sleepiestMinute(sortGuardId[i]))\n",
    "             \n",
    "interpretInput()\n",
    "countMinutes()\n",
    "\n",
    "dependableGuard()\n",
    "#print('Part 2:')\n",
    "#print(sleepiestMinute() * dependableGuard())\n",
    "\n",
    "\n",
    "#sleepGuard = sleepiestGuard()\n",
    "#array = removeWokeGuards()\n",
    "\n",
    "#print('Part 1:')\n",
    "#print(sleepGuard * sleepiestMinute(array))\n",
    "\n",
    "\n",
    "        \n",
    "#print(sleepGuard) \n",
    "#print(sleepiestMinute())\n",
    "#print(array)\n",
    "#for i in range(7):    \n",
    "    #print(array[1100+i])\n",
    "    \n",
    "#for i, v in enumerate(guardSums):\n",
    "    #if (v != 0):\n",
    "        #print(i, v)"
   ]
  },
  {
   "cell_type": "markdown",
   "metadata": {},
   "source": [
    "<h1>Day 5</h1>"
   ]
  },
  {
   "cell_type": "code",
   "execution_count": 456,
   "metadata": {},
   "outputs": [
    {
     "name": "stdout",
     "output_type": "stream",
     "text": [
      "dabAcCaCBAcCcaDA\n",
      "16\n",
      "0\n",
      "1\n",
      "2\n",
      "3\n",
      "4\n",
      "5\n",
      "6\n",
      "7\n",
      "8\n",
      "9\n",
      "10\n",
      "11\n",
      "12\n",
      "13\n",
      "14\n",
      "dabAcCaCBAcCcaDA\n"
     ]
    }
   ],
   "source": [
    "puzzleInput = open('input5.txt', 'r').read()\n",
    "s = puzzleInput\n",
    "print(s)\n",
    "print(len(s))\n",
    "for i in range(len(s)-1):\n",
    "    print(i)\n",
    "    if (s[i].islower and s[i+1].isupper and (s[i].upper == s[i+1].upper)):\n",
    "        s = s[:i] + s[i+1:]\n",
    "    if (s[i].isupper and s[i+1].islower and (s[i].upper == s[i+1].upper)):\n",
    "        s = s[:i] + s[i+1:]\n",
    "        \n",
    "print(s)\n",
    "        "
   ]
  },
  {
   "cell_type": "code",
   "execution_count": null,
   "metadata": {},
   "outputs": [],
   "source": []
  }
 ],
 "metadata": {
  "kernelspec": {
   "display_name": "Python 3",
   "language": "python",
   "name": "python3"
  },
  "language_info": {
   "codemirror_mode": {
    "name": "ipython",
    "version": 3
   },
   "file_extension": ".py",
   "mimetype": "text/x-python",
   "name": "python",
   "nbconvert_exporter": "python",
   "pygments_lexer": "ipython3",
   "version": "3.7.0"
  },
  "varInspector": {
   "cols": {
    "lenName": 16,
    "lenType": 16,
    "lenVar": 40
   },
   "kernels_config": {
    "python": {
     "delete_cmd_postfix": "",
     "delete_cmd_prefix": "del ",
     "library": "var_list.py",
     "varRefreshCmd": "print(var_dic_list())"
    },
    "r": {
     "delete_cmd_postfix": ") ",
     "delete_cmd_prefix": "rm(",
     "library": "var_list.r",
     "varRefreshCmd": "cat(var_dic_list()) "
    }
   },
   "position": {
    "height": "388px",
    "left": "510px",
    "right": "20px",
    "top": "150px",
    "width": "471px"
   },
   "types_to_exclude": [
    "module",
    "function",
    "builtin_function_or_method",
    "instance",
    "_Feature"
   ],
   "window_display": false
  }
 },
 "nbformat": 4,
 "nbformat_minor": 2
}
